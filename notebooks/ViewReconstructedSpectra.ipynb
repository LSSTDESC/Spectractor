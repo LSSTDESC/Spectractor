{
 "cells": [
  {
   "cell_type": "markdown",
   "metadata": {},
   "source": [
    "# Tutorial to View Spectra"
   ]
  },
  {
   "cell_type": "code",
   "execution_count": 1,
   "metadata": {},
   "outputs": [],
   "source": [
    "%load_ext autoreload\n",
    "%autoreload 2"
   ]
  },
  {
   "cell_type": "code",
   "execution_count": 2,
   "metadata": {},
   "outputs": [],
   "source": [
    "import os\n",
    "from os import listdir\n",
    "from os.path import isfile, join\n",
    "import pandas as pd\n",
    "import re"
   ]
  },
  {
   "cell_type": "code",
   "execution_count": 3,
   "metadata": {},
   "outputs": [],
   "source": [
    "%matplotlib inline\n",
    "import matplotlib.pyplot as plt"
   ]
  },
  {
   "cell_type": "code",
   "execution_count": 4,
   "metadata": {},
   "outputs": [
    {
     "name": "stdout",
     "output_type": "stream",
     "text": [
      "workbookDir: /Users/dagoret/MacOSX/GitHub/LSST/Spectractor/notebooks\n"
     ]
    }
   ],
   "source": [
    "if not 'workbookDir' in globals():\n",
    "    workbookDir = os.getcwd()\n",
    "print('workbookDir: ' + workbookDir)\n",
    "#os.chdir(workbookDir)  # If you changed the current working dir, this will take you back to the workbook dir."
   ]
  },
  {
   "cell_type": "code",
   "execution_count": 5,
   "metadata": {},
   "outputs": [],
   "source": [
    "import sys\n",
    "sys.path.append(workbookDir)\n",
    "sys.path.append(os.path.dirname(workbookDir))"
   ]
  },
  {
   "cell_type": "code",
   "execution_count": 6,
   "metadata": {},
   "outputs": [],
   "source": [
    "from spectractor import parameters\n",
    "from spectractor.extractor.extractor import Spectractor\n",
    "from spectractor.logbook import LogBook\n",
    "from spectractor.extractor.dispersers import *\n",
    "from spectractor.extractor.spectrum import *"
   ]
  },
  {
   "cell_type": "code",
   "execution_count": 7,
   "metadata": {},
   "outputs": [],
   "source": [
    "parameters.VERBOSE = True\n",
    "parameters.DEBUG = True"
   ]
  },
  {
   "cell_type": "code",
   "execution_count": 8,
   "metadata": {},
   "outputs": [],
   "source": [
    "#thedate=\"20190214\"\n",
    "thedate=\"20190215\""
   ]
  },
  {
   "cell_type": "code",
   "execution_count": 9,
   "metadata": {},
   "outputs": [],
   "source": [
    "output_directory=\"../output/\"+thedate"
   ]
  },
  {
   "cell_type": "code",
   "execution_count": 10,
   "metadata": {},
   "outputs": [],
   "source": [
    "onlyfiles = [f for f in listdir(output_directory) if isfile(join(output_directory, f))]"
   ]
  },
  {
   "cell_type": "code",
   "execution_count": 11,
   "metadata": {},
   "outputs": [
    {
     "data": {
      "text/plain": [
       "['T1M_20190215_225550_730_HD116405_Filtre_None_bin1x1.1_red_rot_spectrogram.fit',\n",
       " 'T1M_20190215_225701_284_HD116405_Filtre_None_bin1x1.3_red_rot_spectrogram.fit',\n",
       " 'T1M_20190215_225626_007_HD116405_Filtre_None_bin1x1.2_red_rot_spectrogram.fit',\n",
       " 'T1M_20190215_225811_838_HD116405_Filtre_None_bin1x1.5_red_rot_spectrogram.fits',\n",
       " 'T1M_20190215_225626_007_HD116405_Filtre_None_bin1x1.2_red_rot_spectrum.fit',\n",
       " 'T1M_20190215_225550_730_HD116405_Filtre_None_bin1x1.1_red_rot_table.csv',\n",
       " 'T1M_20190215_225550_730_HD116405_Filtre_None_bin1x1.1_red_rot_spectrum.fit',\n",
       " 'T1M_20190215_225701_284_HD116405_Filtre_None_bin1x1.3_red_rot_spectrum.fit',\n",
       " 'T1M_20190215_225701_284_HD116405_Filtre_None_bin1x1.3_red_rot_table.csv',\n",
       " 'T1M_20190215_225811_838_HD116405_Filtre_None_bin1x1.5_red_rot_table.csv',\n",
       " 'T1M_20190215_225811_838_HD116405_Filtre_None_bin1x1.5_red_rot_spectrum.fit',\n",
       " 'T1M_20190215_225811_838_HD116405_Filtre_None_bin1x1.5_red_rot_spectrum.fits',\n",
       " 'T1M_20190215_225811_838_HD116405_Filtre_None_bin1x1.5_red_rot_spectrogram.fit',\n",
       " 'T1M_20190215_225626_007_HD116405_Filtre_None_bin1x1.2_red_rot_table.csv']"
      ]
     },
     "execution_count": 11,
     "metadata": {},
     "output_type": "execute_result"
    }
   ],
   "source": [
    "onlyfiles"
   ]
  },
  {
   "cell_type": "code",
   "execution_count": 12,
   "metadata": {},
   "outputs": [
    {
     "ename": "NameError",
     "evalue": "name 'sdfqsd' is not defined",
     "output_type": "error",
     "traceback": [
      "\u001b[0;31m---------------------------------------------------------------------------\u001b[0m",
      "\u001b[0;31mNameError\u001b[0m                                 Traceback (most recent call last)",
      "\u001b[0;32m<ipython-input-12-6c8701a3735d>\u001b[0m in \u001b[0;36m<module>\u001b[0;34m\u001b[0m\n\u001b[0;32m----> 1\u001b[0;31m \u001b[0msdfqsd\u001b[0m\u001b[0;34m\u001b[0m\u001b[0;34m\u001b[0m\u001b[0m\n\u001b[0m",
      "\u001b[0;31mNameError\u001b[0m: name 'sdfqsd' is not defined"
     ]
    }
   ],
   "source": [
    "sdfqsd"
   ]
  },
  {
   "cell_type": "code",
   "execution_count": 13,
   "metadata": {},
   "outputs": [],
   "source": [
    "fullfilename=os.path.join(output_directory,onlyfiles[11])"
   ]
  },
  {
   "cell_type": "code",
   "execution_count": 14,
   "metadata": {},
   "outputs": [
    {
     "data": {
      "text/plain": [
       "'../output/20190215/T1M_20190215_225811_838_HD116405_Filtre_None_bin1x1.5_red_rot_spectrum.fits'"
      ]
     },
     "execution_count": 14,
     "metadata": {},
     "output_type": "execute_result"
    }
   ],
   "source": [
    "fullfilename"
   ]
  },
  {
   "cell_type": "code",
   "execution_count": 15,
   "metadata": {},
   "outputs": [
    {
     "name": "stderr",
     "output_type": "stream",
     "text": [
      "2019-03-29 21:07:36  Star       load                 INFO   \n",
      "\tSimbad:  MAIN_ID        RA           DEC      RA_PREC ... SP_TYPE SP_QUAL SP_BIBCODE\n",
      "             \"h:m:s\"       \"d:m:s\"            ...                           \n",
      "--------- ------------- ------------- ------- ... ------- ------- ----------\n",
      "HD 116405 13 22 45.1237 +44 42 53.911      14 ...     A0V       C           \n",
      "2019-03-29 21:07:36  Spectrum   load_spectrum        INFO   \n",
      "\tLoading disperser Holo150ROTPDM19...\n",
      "2019-03-29 21:07:36  Spectrum   load_spectrum        INFO   \n",
      "\tSpectrum loaded from ../output/20190215/T1M_20190215_225811_838_HD116405_Filtre_None_bin1x1.5_red_rot_spectrum.fits\n",
      "2019-03-29 21:07:36  Spectrum   load_spectrogram     INFO   \n",
      "\tSpectrogram loaded from ../output/20190215/T1M_20190215_225811_838_HD116405_Filtre_None_bin1x1.5_red_rot_spectrogram.fits\n"
     ]
    },
    {
     "name": "stdout",
     "output_type": "stream",
     "text": [
      "Loading /Users/dagoret/MacOSX/External/PySynPhotData/grp/hst/cdbs/calspec/hd116405_stis_003.fits\n",
      "Loading /Users/dagoret/MacOSX/External/PySynPhotData/grp/hst/cdbs/calspec/hd116405_stis_002.fits\n",
      "Loading /Users/dagoret/MacOSX/External/PySynPhotData/grp/hst/cdbs/calspec/hd116405_stis_004.fits\n",
      "Loading /Users/dagoret/MacOSX/External/PySynPhotData/grp/hst/cdbs/calspec/hd116405_stis_001.fits\n",
      "Load disperser Holo150ROTPDM19:\n",
      "\tfrom /Users/dagoret/MacOSX/GitHub/LSST/Spectractor/spectractor/extractor/dispersers/Holo150ROTPDM19\n",
      "Grating characteristics:\n",
      "\tN = 150.00 +/- 1.14 grooves/mm\n",
      "\tAverage tilt of 0.0 degrees\n"
     ]
    },
    {
     "name": "stderr",
     "output_type": "stream",
     "text": [
      "2019-03-29 21:07:36  Spectrum   load_chromatic_psf   INFO   \n",
      "\tSpectrogram loaded from ../output/20190215/T1M_20190215_225811_838_HD116405_Filtre_None_bin1x1.5_red_rot_table.csv\n"
     ]
    }
   ],
   "source": [
    "s = Spectrum()\n",
    "s.load_spectrum(fullfilename)"
   ]
  },
  {
   "cell_type": "code",
   "execution_count": 16,
   "metadata": {},
   "outputs": [
    {
     "data": {
      "image/png": "[encoded data removed]",
      "text/plain": [
       "<Figure size 864x432 with 1 Axes>"
      ]
     },
     "metadata": {
      "needs_background": "light"
     },
     "output_type": "display_data"
    }
   ],
   "source": [
    "s.plot_spectrum(xlim=None)"
   ]
  },
  {
   "cell_type": "code",
   "execution_count": null,
   "metadata": {},
   "outputs": [],
   "source": []
  },
  {
   "cell_type": "code",
   "execution_count": null,
   "metadata": {},
   "outputs": [],
   "source": []
  },
  {
   "cell_type": "code",
   "execution_count": null,
   "metadata": {},
   "outputs": [],
   "source": []
  }
 ],
 "metadata": {
  "kernelspec": {
   "display_name": "Python 3",
   "language": "python",
   "name": "python3"
  },
  "language_info": {
   "codemirror_mode": {
    "name": "ipython",
    "version": 3
   },
   "file_extension": ".py",
   "mimetype": "text/x-python",
   "name": "python",
   "nbconvert_exporter": "python",
   "pygments_lexer": "ipython3",
   "version": "3.6.7"
  },
  "toc": {
   "nav_menu": {},
   "number_sections": true,
   "sideBar": true,
   "skip_h1_title": false,
   "toc_cell": false,
   "toc_position": {},
   "toc_section_display": "block",
   "toc_window_display": false
  }
 },
 "nbformat": 4,
 "nbformat_minor": 2
}
