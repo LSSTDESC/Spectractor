{
 "cells": [
  {
   "cell_type": "markdown",
   "metadata": {},
   "source": [
    "# Tutorial to View Spectra"
   ]
  },
  {
   "cell_type": "code",
   "execution_count": 171,
   "metadata": {},
   "outputs": [
    {
     "name": "stdout",
     "output_type": "stream",
     "text": [
      "The autoreload extension is already loaded. To reload it, use:\n",
      "  %reload_ext autoreload\n"
     ]
    }
   ],
   "source": [
    "%load_ext autoreload\n",
    "%autoreload 2"
   ]
  },
  {
   "cell_type": "code",
   "execution_count": 172,
   "metadata": {},
   "outputs": [],
   "source": [
    "import os\n",
    "from os import listdir\n",
    "from os.path import isfile, join\n",
    "import pandas as pd\n",
    "import re"
   ]
  },
  {
   "cell_type": "code",
   "execution_count": 173,
   "metadata": {},
   "outputs": [],
   "source": [
    "%matplotlib inline\n",
    "import matplotlib.pyplot as plt"
   ]
  },
  {
   "cell_type": "code",
   "execution_count": 174,
   "metadata": {},
   "outputs": [
    {
     "name": "stdout",
     "output_type": "stream",
     "text": [
      "workbookDir: /Users/dagoret/MacOSX/GitHub/LSST/Spectractor/notebooks\n"
     ]
    }
   ],
   "source": [
    "if not 'workbookDir' in globals():\n",
    "    workbookDir = os.getcwd()\n",
    "print('workbookDir: ' + workbookDir)\n",
    "#os.chdir(workbookDir)  # If you changed the current working dir, this will take you back to the workbook dir."
   ]
  },
  {
   "cell_type": "code",
   "execution_count": 175,
   "metadata": {},
   "outputs": [],
   "source": [
    "import sys\n",
    "sys.path.append(workbookDir)\n",
    "sys.path.append(os.path.dirname(workbookDir))"
   ]
  },
  {
   "cell_type": "code",
   "execution_count": 176,
   "metadata": {},
   "outputs": [],
   "source": [
    "from spectractor import parameters\n",
    "from spectractor.extractor.extractor import Spectractor\n",
    "from spectractor.logbook import LogBook\n",
    "from spectractor.extractor.dispersers import *\n",
    "from spectractor.extractor.spectrum import *"
   ]
  },
  {
   "cell_type": "markdown",
   "metadata": {},
   "source": [
    "# Configuration"
   ]
  },
  {
   "cell_type": "code",
   "execution_count": 177,
   "metadata": {},
   "outputs": [],
   "source": [
    "parameters.VERBOSE = True\n",
    "parameters.DEBUG = True"
   ]
  },
  {
   "cell_type": "code",
   "execution_count": 178,
   "metadata": {},
   "outputs": [],
   "source": [
    "#thedate=\"20190214\"\n",
    "thedate=\"20190215\""
   ]
  },
  {
   "cell_type": "code",
   "execution_count": 179,
   "metadata": {},
   "outputs": [],
   "source": [
    "output_directory=\"../output/\"+thedate"
   ]
  },
  {
   "cell_type": "code",
   "execution_count": 180,
   "metadata": {},
   "outputs": [],
   "source": [
    "parameters.VERBOSE=True \n",
    "parameters.DISPLAY=True"
   ]
  },
  {
   "cell_type": "markdown",
   "metadata": {},
   "source": [
    "# Input Files for Spectra"
   ]
  },
  {
   "cell_type": "markdown",
   "metadata": {},
   "source": [
    "## Get list of files"
   ]
  },
  {
   "cell_type": "code",
   "execution_count": 181,
   "metadata": {},
   "outputs": [],
   "source": [
    "onlyfiles = [f for f in listdir(output_directory) if isfile(join(output_directory, f))]"
   ]
  },
  {
   "cell_type": "code",
   "execution_count": 182,
   "metadata": {},
   "outputs": [],
   "source": [
    "onlyfiles=np.array(onlyfiles)"
   ]
  },
  {
   "cell_type": "markdown",
   "metadata": {},
   "source": [
    "## Sort files"
   ]
  },
  {
   "cell_type": "code",
   "execution_count": 183,
   "metadata": {},
   "outputs": [],
   "source": [
    "sortedindexes=np.argsort(onlyfiles)"
   ]
  },
  {
   "cell_type": "code",
   "execution_count": 184,
   "metadata": {},
   "outputs": [],
   "source": [
    "onlyfiles=onlyfiles[sortedindexes]"
   ]
  },
  {
   "cell_type": "code",
   "execution_count": 185,
   "metadata": {},
   "outputs": [
    {
     "data": {
      "text/plain": [
       "array(['T1M_20190215_225550_730_HD116405_Filtre_None_bin1x1.1_red_rot_spectrogram.fits',\n",
       "       'T1M_20190215_225550_730_HD116405_Filtre_None_bin1x1.1_red_rot_spectrum.fits',\n",
       "       'T1M_20190215_225550_730_HD116405_Filtre_None_bin1x1.1_red_rot_table.csv',\n",
       "       'T1M_20190215_225626_007_HD116405_Filtre_None_bin1x1.2_red_rot_spectrogram.fits',\n",
       "       'T1M_20190215_225626_007_HD116405_Filtre_None_bin1x1.2_red_rot_spectrum.fits',\n",
       "       'T1M_20190215_225626_007_HD116405_Filtre_None_bin1x1.2_red_rot_table.csv',\n",
       "       'T1M_20190215_225701_284_HD116405_Filtre_None_bin1x1.3_red_rot_spectrogram.fits',\n",
       "       'T1M_20190215_225701_284_HD116405_Filtre_None_bin1x1.3_red_rot_spectrum.fits',\n",
       "       'T1M_20190215_225701_284_HD116405_Filtre_None_bin1x1.3_red_rot_table.csv',\n",
       "       'T1M_20190215_225736_562_HD116405_Filtre_None_bin1x1.4_red_rot_spectrogram.fits',\n",
       "       'T1M_20190215_225736_562_HD116405_Filtre_None_bin1x1.4_red_rot_spectrum.fits',\n",
       "       'T1M_20190215_225736_562_HD116405_Filtre_None_bin1x1.4_red_rot_table.csv',\n",
       "       'T1M_20190215_225811_838_HD116405_Filtre_None_bin1x1.5_red_rot_spectrogram.fits',\n",
       "       'T1M_20190215_225811_838_HD116405_Filtre_None_bin1x1.5_red_rot_spectrum.fits',\n",
       "       'T1M_20190215_225811_838_HD116405_Filtre_None_bin1x1.5_red_rot_table.csv',\n",
       "       'T1M_20190215_225847_115_HD116405_Filtre_None_bin1x1.6_red_rot_spectrogram.fits',\n",
       "       'T1M_20190215_225847_115_HD116405_Filtre_None_bin1x1.6_red_rot_spectrum.fits',\n",
       "       'T1M_20190215_225847_115_HD116405_Filtre_None_bin1x1.6_red_rot_table.csv',\n",
       "       'T1M_20190215_225922_399_HD116405_Filtre_None_bin1x1.7_red_rot_spectrogram.fits',\n",
       "       'T1M_20190215_225922_399_HD116405_Filtre_None_bin1x1.7_red_rot_spectrum.fits',\n",
       "       'T1M_20190215_225922_399_HD116405_Filtre_None_bin1x1.7_red_rot_table.csv',\n",
       "       'T1M_20190215_225957_677_HD116405_Filtre_None_bin1x1.8_red_rot_spectrogram.fits',\n",
       "       'T1M_20190215_225957_677_HD116405_Filtre_None_bin1x1.8_red_rot_spectrum.fits',\n",
       "       'T1M_20190215_225957_677_HD116405_Filtre_None_bin1x1.8_red_rot_table.csv',\n",
       "       'T1M_20190215_230032_956_HD116405_Filtre_None_bin1x1.9_red_rot_spectrogram.fits',\n",
       "       'T1M_20190215_230032_956_HD116405_Filtre_None_bin1x1.9_red_rot_spectrum.fits',\n",
       "       'T1M_20190215_230032_956_HD116405_Filtre_None_bin1x1.9_red_rot_table.csv',\n",
       "       'T1M_20190215_230108_233_HD116405_Filtre_None_bin1x1.10_red_rot_spectrogram.fits',\n",
       "       'T1M_20190215_230108_233_HD116405_Filtre_None_bin1x1.10_red_rot_spectrum.fits',\n",
       "       'T1M_20190215_230108_233_HD116405_Filtre_None_bin1x1.10_red_rot_table.csv',\n",
       "       'T1M_20190215_230143_511_HD116405_Filtre_None_bin1x1.11_red_rot_spectrogram.fits',\n",
       "       'T1M_20190215_230143_511_HD116405_Filtre_None_bin1x1.11_red_rot_spectrum.fits',\n",
       "       'T1M_20190215_230143_511_HD116405_Filtre_None_bin1x1.11_red_rot_table.csv',\n",
       "       'T1M_20190215_230218_787_HD116405_Filtre_None_bin1x1.12_red_rot_spectrogram.fits',\n",
       "       'T1M_20190215_230218_787_HD116405_Filtre_None_bin1x1.12_red_rot_spectrum.fits',\n",
       "       'T1M_20190215_230218_787_HD116405_Filtre_None_bin1x1.12_red_rot_table.csv',\n",
       "       'T1M_20190215_230254_099_HD116405_Filtre_None_bin1x1.13_red_rot_spectrogram.fits',\n",
       "       'T1M_20190215_230254_099_HD116405_Filtre_None_bin1x1.13_red_rot_spectrum.fits',\n",
       "       'T1M_20190215_230254_099_HD116405_Filtre_None_bin1x1.13_red_rot_table.csv',\n",
       "       'T1M_20190215_230329_374_HD116405_Filtre_None_bin1x1.14_red_rot_spectrogram.fits',\n",
       "       'T1M_20190215_230329_374_HD116405_Filtre_None_bin1x1.14_red_rot_spectrum.fits',\n",
       "       'T1M_20190215_230329_374_HD116405_Filtre_None_bin1x1.14_red_rot_table.csv'],\n",
       "      dtype='<U79')"
      ]
     },
     "execution_count": 185,
     "metadata": {},
     "output_type": "execute_result"
    }
   ],
   "source": [
    "onlyfiles"
   ]
  },
  {
   "cell_type": "markdown",
   "metadata": {},
   "source": [
    "## Extract \\_spectrum.fits file"
   ]
  },
  {
   "cell_type": "code",
   "execution_count": 186,
   "metadata": {},
   "outputs": [],
   "source": [
    "onlyfilesspectrum=[]\n",
    "for f in onlyfiles:\n",
    "    if re.search(\"^T.*_spectrum.fits$\",f):\n",
    "        onlyfilesspectrum.append(re.findall(\"(^T.*_spectrum.fits$)\",f)[0])"
   ]
  },
  {
   "cell_type": "code",
   "execution_count": 187,
   "metadata": {},
   "outputs": [],
   "source": [
    "onlyfilesspectrum=np.array(onlyfilesspectrum)\n",
    "sortedindexes=np.argsort(onlyfilesspectrum)\n",
    "onlyfilesspectrum=onlyfilesspectrum[sortedindexes]"
   ]
  },
  {
   "cell_type": "markdown",
   "metadata": {},
   "source": [
    "### Extract basename of files"
   ]
  },
  {
   "cell_type": "code",
   "execution_count": 188,
   "metadata": {},
   "outputs": [],
   "source": [
    "onlyfilesbasename=[]\n",
    "for f in onlyfilesspectrum:\n",
    "    onlyfilesbasename.append(re.findall(\"(^T.*)_spectrum.fits$\",f)[0])"
   ]
  },
  {
   "cell_type": "code",
   "execution_count": 189,
   "metadata": {},
   "outputs": [
    {
     "data": {
      "text/plain": [
       "['T1M_20190215_225550_730_HD116405_Filtre_None_bin1x1.1_red_rot',\n",
       " 'T1M_20190215_225626_007_HD116405_Filtre_None_bin1x1.2_red_rot',\n",
       " 'T1M_20190215_225701_284_HD116405_Filtre_None_bin1x1.3_red_rot',\n",
       " 'T1M_20190215_225736_562_HD116405_Filtre_None_bin1x1.4_red_rot',\n",
       " 'T1M_20190215_225811_838_HD116405_Filtre_None_bin1x1.5_red_rot',\n",
       " 'T1M_20190215_225847_115_HD116405_Filtre_None_bin1x1.6_red_rot',\n",
       " 'T1M_20190215_225922_399_HD116405_Filtre_None_bin1x1.7_red_rot',\n",
       " 'T1M_20190215_225957_677_HD116405_Filtre_None_bin1x1.8_red_rot',\n",
       " 'T1M_20190215_230032_956_HD116405_Filtre_None_bin1x1.9_red_rot',\n",
       " 'T1M_20190215_230108_233_HD116405_Filtre_None_bin1x1.10_red_rot',\n",
       " 'T1M_20190215_230143_511_HD116405_Filtre_None_bin1x1.11_red_rot',\n",
       " 'T1M_20190215_230218_787_HD116405_Filtre_None_bin1x1.12_red_rot',\n",
       " 'T1M_20190215_230254_099_HD116405_Filtre_None_bin1x1.13_red_rot',\n",
       " 'T1M_20190215_230329_374_HD116405_Filtre_None_bin1x1.14_red_rot']"
      ]
     },
     "execution_count": 189,
     "metadata": {},
     "output_type": "execute_result"
    }
   ],
   "source": [
    " onlyfilesbasename"
   ]
  },
  {
   "cell_type": "code",
   "execution_count": 193,
   "metadata": {},
   "outputs": [],
   "source": [
    "basenamecut=[]\n",
    "for f in onlyfilesspectrum:\n",
    "    basenamecut.append(f.split(\"_HD\")[0])"
   ]
  },
  {
   "cell_type": "code",
   "execution_count": 194,
   "metadata": {},
   "outputs": [
    {
     "data": {
      "text/plain": [
       "['T1M_20190215_225550_730',\n",
       " 'T1M_20190215_225626_007',\n",
       " 'T1M_20190215_225701_284',\n",
       " 'T1M_20190215_225736_562',\n",
       " 'T1M_20190215_225811_838',\n",
       " 'T1M_20190215_225847_115',\n",
       " 'T1M_20190215_225922_399',\n",
       " 'T1M_20190215_225957_677',\n",
       " 'T1M_20190215_230032_956',\n",
       " 'T1M_20190215_230108_233',\n",
       " 'T1M_20190215_230143_511',\n",
       " 'T1M_20190215_230218_787',\n",
       " 'T1M_20190215_230254_099',\n",
       " 'T1M_20190215_230329_374']"
      ]
     },
     "execution_count": 194,
     "metadata": {},
     "output_type": "execute_result"
    }
   ],
   "source": [
    "basenamecut"
   ]
  },
  {
   "cell_type": "markdown",
   "metadata": {},
   "source": [
    "# Plot Spectra"
   ]
  },
  {
   "cell_type": "code",
   "execution_count": 190,
   "metadata": {},
   "outputs": [],
   "source": [
    "NBSPEC=len(sortedindexes)"
   ]
  },
  {
   "cell_type": "code",
   "execution_count": 191,
   "metadata": {
    "scrolled": false
   },
   "outputs": [
    {
     "name": "stderr",
     "output_type": "stream",
     "text": [
      "2019-04-02 15:05:11  urllib3.connectionpool _get_conn            DEBUG  Resetting dropped connection: simbad.u-strasbg.fr\n",
      "2019-04-02 15:05:12  urllib3.connectionpool _make_request        DEBUG  http://simbad.u-strasbg.fr:80 \"POST /simbad/sim-script HTTP/1.1\" 200 None\n"
     ]
    },
    {
     "name": "stdout",
     "output_type": "stream",
     "text": [
      "0\n"
     ]
    },
    {
     "name": "stderr",
     "output_type": "stream",
     "text": [
      "2019-04-02 15:05:12  Star       load                 INFO   \n",
      "\tSimbad:  MAIN_ID        RA           DEC      ... SP_TYPE_24 SP_QUAL_24 SP_BIBCODE_24\n",
      "             \"h:m:s\"       \"d:m:s\"    ...                                    \n",
      "--------- ------------- ------------- ... ---------- ---------- -------------\n",
      "HD 116405 13 22 45.1237 +44 42 53.911 ...        A0V          C              \n",
      "2019-04-02 15:05:12  Spectrum   load_spectrum        INFO   \n",
      "\tLoading disperser Holo150ROTPDM19...\n",
      "2019-04-02 15:05:12  Spectrum   load_spectrum        INFO   \n",
      "\tSpectrum loaded from ../output/20190215/T1M_20190215_225550_730_HD116405_Filtre_None_bin1x1.1_red_rot_spectrogram.fits\n",
      "2019-04-02 15:05:12  Spectrum   load_spectrogram     INFO   \n",
      "\tSpectrogram loaded from ../output/20190215/T1M_20190215_225550_730_HD116405_Filtre_None_bin1x1.1_red_rot_spectrogram.fits\n"
     ]
    },
    {
     "name": "stdout",
     "output_type": "stream",
     "text": [
      "Loading /Users/dagoret/MacOSX/External/PySynPhotData/grp/hst/cdbs/calspec/hd116405_stis_003.fits\n",
      "Loading /Users/dagoret/MacOSX/External/PySynPhotData/grp/hst/cdbs/calspec/hd116405_stis_002.fits\n",
      "Loading /Users/dagoret/MacOSX/External/PySynPhotData/grp/hst/cdbs/calspec/hd116405_stis_004.fits\n",
      "Loading /Users/dagoret/MacOSX/External/PySynPhotData/grp/hst/cdbs/calspec/hd116405_stis_001.fits\n",
      "Load disperser Holo150ROTPDM19:\n",
      "\tfrom /Users/dagoret/MacOSX/GitHub/LSST/Spectractor/spectractor/extractor/dispersers/Holo150ROTPDM19\n",
      "Grating characteristics:\n",
      "\tN = 150.00 +/- 1.14 grooves/mm\n",
      "\tAverage tilt of 0.0 degrees\n"
     ]
    },
    {
     "ename": "ValueError",
     "evalue": "No table found",
     "output_type": "error",
     "traceback": [
      "\u001b[0;31m---------------------------------------------------------------------------\u001b[0m",
      "\u001b[0;31mValueError\u001b[0m                                Traceback (most recent call last)",
      "\u001b[0;32m<ipython-input-191-260b80af9318>\u001b[0m in \u001b[0;36m<module>\u001b[0;34m\u001b[0m\n\u001b[1;32m      8\u001b[0m     \u001b[0mfullfilename\u001b[0m\u001b[0;34m=\u001b[0m\u001b[0mos\u001b[0m\u001b[0;34m.\u001b[0m\u001b[0mpath\u001b[0m\u001b[0;34m.\u001b[0m\u001b[0mjoin\u001b[0m\u001b[0;34m(\u001b[0m\u001b[0moutput_directory\u001b[0m\u001b[0;34m,\u001b[0m\u001b[0monlyfiles\u001b[0m\u001b[0;34m[\u001b[0m\u001b[0midx\u001b[0m\u001b[0;34m]\u001b[0m\u001b[0;34m)\u001b[0m\u001b[0;34m\u001b[0m\u001b[0;34m\u001b[0m\u001b[0m\n\u001b[1;32m      9\u001b[0m     \u001b[0ms\u001b[0m \u001b[0;34m=\u001b[0m \u001b[0mSpectrum\u001b[0m\u001b[0;34m(\u001b[0m\u001b[0;34m)\u001b[0m\u001b[0;34m\u001b[0m\u001b[0;34m\u001b[0m\u001b[0m\n\u001b[0;32m---> 10\u001b[0;31m     \u001b[0ms\u001b[0m\u001b[0;34m.\u001b[0m\u001b[0mload_spectrum\u001b[0m\u001b[0;34m(\u001b[0m\u001b[0mfullfilename\u001b[0m\u001b[0;34m)\u001b[0m\u001b[0;34m\u001b[0m\u001b[0;34m\u001b[0m\u001b[0m\n\u001b[0m\u001b[1;32m     11\u001b[0m     \u001b[0ms\u001b[0m\u001b[0;34m.\u001b[0m\u001b[0mplot_spectrum\u001b[0m\u001b[0;34m(\u001b[0m\u001b[0mxlim\u001b[0m\u001b[0;34m=\u001b[0m\u001b[0;32mNone\u001b[0m\u001b[0;34m,\u001b[0m\u001b[0mforce_lines\u001b[0m\u001b[0;34m=\u001b[0m\u001b[0;32mTrue\u001b[0m\u001b[0;34m)\u001b[0m\u001b[0;34m\u001b[0m\u001b[0;34m\u001b[0m\u001b[0m\n",
      "\u001b[0;32m~/MacOSX/GitHub/LSST/Spectractor/spectractor/extractor/spectrum.py\u001b[0m in \u001b[0;36mload_spectrum\u001b[0;34m(self, input_file_name)\u001b[0m\n\u001b[1;32m    341\u001b[0m             \u001b[0mself\u001b[0m\u001b[0;34m.\u001b[0m\u001b[0mmy_logger\u001b[0m\u001b[0;34m.\u001b[0m\u001b[0minfo\u001b[0m\u001b[0;34m(\u001b[0m\u001b[0;34m'\\n\\tSpectrum loaded from %s'\u001b[0m \u001b[0;34m%\u001b[0m \u001b[0minput_file_name\u001b[0m\u001b[0;34m)\u001b[0m\u001b[0;34m\u001b[0m\u001b[0;34m\u001b[0m\u001b[0m\n\u001b[1;32m    342\u001b[0m             \u001b[0mself\u001b[0m\u001b[0;34m.\u001b[0m\u001b[0mload_spectrogram\u001b[0m\u001b[0;34m(\u001b[0m\u001b[0minput_file_name\u001b[0m\u001b[0;34m.\u001b[0m\u001b[0mreplace\u001b[0m\u001b[0;34m(\u001b[0m\u001b[0;34m'spectrum'\u001b[0m\u001b[0;34m,\u001b[0m \u001b[0;34m'spectrogram'\u001b[0m\u001b[0;34m)\u001b[0m\u001b[0;34m)\u001b[0m\u001b[0;34m\u001b[0m\u001b[0;34m\u001b[0m\u001b[0m\n\u001b[0;32m--> 343\u001b[0;31m             \u001b[0mself\u001b[0m\u001b[0;34m.\u001b[0m\u001b[0mload_chromatic_psf\u001b[0m\u001b[0;34m(\u001b[0m\u001b[0minput_file_name\u001b[0m\u001b[0;34m.\u001b[0m\u001b[0mreplace\u001b[0m\u001b[0;34m(\u001b[0m\u001b[0;34m'spectrum.fits'\u001b[0m\u001b[0;34m,\u001b[0m \u001b[0;34m'table.csv'\u001b[0m\u001b[0;34m)\u001b[0m\u001b[0;34m)\u001b[0m\u001b[0;34m\u001b[0m\u001b[0;34m\u001b[0m\u001b[0m\n\u001b[0m\u001b[1;32m    344\u001b[0m         \u001b[0;32melse\u001b[0m\u001b[0;34m:\u001b[0m\u001b[0;34m\u001b[0m\u001b[0;34m\u001b[0m\u001b[0m\n\u001b[1;32m    345\u001b[0m             \u001b[0mself\u001b[0m\u001b[0;34m.\u001b[0m\u001b[0mmy_logger\u001b[0m\u001b[0;34m.\u001b[0m\u001b[0mwarning\u001b[0m\u001b[0;34m(\u001b[0m\u001b[0;34m'\\n\\tSpectrum file %s not found'\u001b[0m \u001b[0;34m%\u001b[0m \u001b[0minput_file_name\u001b[0m\u001b[0;34m)\u001b[0m\u001b[0;34m\u001b[0m\u001b[0;34m\u001b[0m\u001b[0m\n",
      "\u001b[0;32m~/MacOSX/GitHub/LSST/Spectractor/spectractor/extractor/spectrum.py\u001b[0m in \u001b[0;36mload_chromatic_psf\u001b[0;34m(self, input_file_name)\u001b[0m\n\u001b[1;32m    395\u001b[0m             self.chromatic_psf = ChromaticPSF1D(self.spectrogram_Nx, self.spectrogram_Ny,\n\u001b[1;32m    396\u001b[0m                                                 deg=self.spectrogram_deg, saturation=self.spectrogram_saturation)\n\u001b[0;32m--> 397\u001b[0;31m             \u001b[0mself\u001b[0m\u001b[0;34m.\u001b[0m\u001b[0mchromatic_psf\u001b[0m\u001b[0;34m.\u001b[0m\u001b[0mtable\u001b[0m \u001b[0;34m=\u001b[0m \u001b[0mTable\u001b[0m\u001b[0;34m.\u001b[0m\u001b[0mread\u001b[0m\u001b[0;34m(\u001b[0m\u001b[0minput_file_name\u001b[0m\u001b[0;34m)\u001b[0m\u001b[0;34m\u001b[0m\u001b[0;34m\u001b[0m\u001b[0m\n\u001b[0m\u001b[1;32m    398\u001b[0m             \u001b[0mself\u001b[0m\u001b[0;34m.\u001b[0m\u001b[0mmy_logger\u001b[0m\u001b[0;34m.\u001b[0m\u001b[0minfo\u001b[0m\u001b[0;34m(\u001b[0m\u001b[0;34m'\\n\\tSpectrogram loaded from %s'\u001b[0m \u001b[0;34m%\u001b[0m \u001b[0minput_file_name\u001b[0m\u001b[0;34m)\u001b[0m\u001b[0;34m\u001b[0m\u001b[0;34m\u001b[0m\u001b[0m\n\u001b[1;32m    399\u001b[0m         \u001b[0;32melse\u001b[0m\u001b[0;34m:\u001b[0m\u001b[0;34m\u001b[0m\u001b[0;34m\u001b[0m\u001b[0m\n",
      "\u001b[0;32m~/anaconda3/envs/python36/lib/python3.6/site-packages/astropy/table/table.py\u001b[0m in \u001b[0;36mread\u001b[0;34m(cls, *args, **kwargs)\u001b[0m\n\u001b[1;32m   2548\u001b[0m         \u001b[0;31m# RST table and inserts at the end of the docstring.  DO NOT REMOVE.\u001b[0m\u001b[0;34m\u001b[0m\u001b[0;34m\u001b[0m\u001b[0;34m\u001b[0m\u001b[0m\n\u001b[1;32m   2549\u001b[0m \u001b[0;34m\u001b[0m\u001b[0m\n\u001b[0;32m-> 2550\u001b[0;31m         \u001b[0mout\u001b[0m \u001b[0;34m=\u001b[0m \u001b[0mio_registry\u001b[0m\u001b[0;34m.\u001b[0m\u001b[0mread\u001b[0m\u001b[0;34m(\u001b[0m\u001b[0mcls\u001b[0m\u001b[0;34m,\u001b[0m \u001b[0;34m*\u001b[0m\u001b[0margs\u001b[0m\u001b[0;34m,\u001b[0m \u001b[0;34m**\u001b[0m\u001b[0mkwargs\u001b[0m\u001b[0;34m)\u001b[0m\u001b[0;34m\u001b[0m\u001b[0;34m\u001b[0m\u001b[0m\n\u001b[0m\u001b[1;32m   2551\u001b[0m         \u001b[0;31m# For some readers (e.g., ascii.ecsv), the returned `out` class is not\u001b[0m\u001b[0;34m\u001b[0m\u001b[0;34m\u001b[0m\u001b[0;34m\u001b[0m\u001b[0m\n\u001b[1;32m   2552\u001b[0m         \u001b[0;31m# guaranteed to be the same as the desired output `cls`.  If so,\u001b[0m\u001b[0;34m\u001b[0m\u001b[0;34m\u001b[0m\u001b[0;34m\u001b[0m\u001b[0m\n",
      "\u001b[0;32m~/anaconda3/envs/python36/lib/python3.6/site-packages/astropy/io/registry.py\u001b[0m in \u001b[0;36mread\u001b[0;34m(cls, format, *args, **kwargs)\u001b[0m\n\u001b[1;32m    515\u001b[0m \u001b[0;34m\u001b[0m\u001b[0m\n\u001b[1;32m    516\u001b[0m         \u001b[0mreader\u001b[0m \u001b[0;34m=\u001b[0m \u001b[0mget_reader\u001b[0m\u001b[0;34m(\u001b[0m\u001b[0mformat\u001b[0m\u001b[0;34m,\u001b[0m \u001b[0mcls\u001b[0m\u001b[0;34m)\u001b[0m\u001b[0;34m\u001b[0m\u001b[0;34m\u001b[0m\u001b[0m\n\u001b[0;32m--> 517\u001b[0;31m         \u001b[0mdata\u001b[0m \u001b[0;34m=\u001b[0m \u001b[0mreader\u001b[0m\u001b[0;34m(\u001b[0m\u001b[0;34m*\u001b[0m\u001b[0margs\u001b[0m\u001b[0;34m,\u001b[0m \u001b[0;34m**\u001b[0m\u001b[0mkwargs\u001b[0m\u001b[0;34m)\u001b[0m\u001b[0;34m\u001b[0m\u001b[0;34m\u001b[0m\u001b[0m\n\u001b[0m\u001b[1;32m    518\u001b[0m \u001b[0;34m\u001b[0m\u001b[0m\n\u001b[1;32m    519\u001b[0m         \u001b[0;32mif\u001b[0m \u001b[0;32mnot\u001b[0m \u001b[0misinstance\u001b[0m\u001b[0;34m(\u001b[0m\u001b[0mdata\u001b[0m\u001b[0;34m,\u001b[0m \u001b[0mcls\u001b[0m\u001b[0;34m)\u001b[0m\u001b[0;34m:\u001b[0m\u001b[0;34m\u001b[0m\u001b[0;34m\u001b[0m\u001b[0m\n",
      "\u001b[0;32m~/anaconda3/envs/python36/lib/python3.6/site-packages/astropy/io/fits/connect.py\u001b[0m in \u001b[0;36mread_table_fits\u001b[0;34m(input, hdu, astropy_native, memmap, character_as_bytes)\u001b[0m\n\u001b[1;32m    198\u001b[0m         \u001b[0;32mtry\u001b[0m\u001b[0;34m:\u001b[0m\u001b[0;34m\u001b[0m\u001b[0;34m\u001b[0m\u001b[0m\n\u001b[1;32m    199\u001b[0m             return read_table_fits(hdulist, hdu=hdu,\n\u001b[0;32m--> 200\u001b[0;31m                                    astropy_native=astropy_native)\n\u001b[0m\u001b[1;32m    201\u001b[0m         \u001b[0;32mfinally\u001b[0m\u001b[0;34m:\u001b[0m\u001b[0;34m\u001b[0m\u001b[0;34m\u001b[0m\u001b[0m\n\u001b[1;32m    202\u001b[0m             \u001b[0mhdulist\u001b[0m\u001b[0;34m.\u001b[0m\u001b[0mclose\u001b[0m\u001b[0;34m(\u001b[0m\u001b[0;34m)\u001b[0m\u001b[0;34m\u001b[0m\u001b[0;34m\u001b[0m\u001b[0m\n",
      "\u001b[0;32m~/anaconda3/envs/python36/lib/python3.6/site-packages/astropy/io/fits/connect.py\u001b[0m in \u001b[0;36mread_table_fits\u001b[0;34m(input, hdu, astropy_native, memmap, character_as_bytes)\u001b[0m\n\u001b[1;32m    185\u001b[0m             \u001b[0mtable\u001b[0m \u001b[0;34m=\u001b[0m \u001b[0mtables\u001b[0m\u001b[0;34m[\u001b[0m\u001b[0mfirst\u001b[0m\u001b[0;34m(\u001b[0m\u001b[0mtables\u001b[0m\u001b[0;34m)\u001b[0m\u001b[0;34m]\u001b[0m\u001b[0;34m\u001b[0m\u001b[0;34m\u001b[0m\u001b[0m\n\u001b[1;32m    186\u001b[0m         \u001b[0;32melse\u001b[0m\u001b[0;34m:\u001b[0m\u001b[0;34m\u001b[0m\u001b[0;34m\u001b[0m\u001b[0m\n\u001b[0;32m--> 187\u001b[0;31m             \u001b[0;32mraise\u001b[0m \u001b[0mValueError\u001b[0m\u001b[0;34m(\u001b[0m\u001b[0;34m\"No table found\"\u001b[0m\u001b[0;34m)\u001b[0m\u001b[0;34m\u001b[0m\u001b[0;34m\u001b[0m\u001b[0m\n\u001b[0m\u001b[1;32m    188\u001b[0m \u001b[0;34m\u001b[0m\u001b[0m\n\u001b[1;32m    189\u001b[0m     \u001b[0;32melif\u001b[0m \u001b[0misinstance\u001b[0m\u001b[0;34m(\u001b[0m\u001b[0minput\u001b[0m\u001b[0;34m,\u001b[0m \u001b[0;34m(\u001b[0m\u001b[0mTableHDU\u001b[0m\u001b[0;34m,\u001b[0m \u001b[0mBinTableHDU\u001b[0m\u001b[0;34m,\u001b[0m \u001b[0mGroupsHDU\u001b[0m\u001b[0;34m)\u001b[0m\u001b[0;34m)\u001b[0m\u001b[0;34m:\u001b[0m\u001b[0;34m\u001b[0m\u001b[0;34m\u001b[0m\u001b[0m\n",
      "\u001b[0;31mValueError\u001b[0m: No table found"
     ]
    }
   ],
   "source": [
    "for idx in np.arange(0,NBSPEC):\n",
    "    #if idx in [0,1,4]:\n",
    "    #    continue\n",
    "        \n",
    "        \n",
    "    print(idx)\n",
    "    \n",
    "    fullfilename=os.path.join(output_directory,onlyfiles[idx])\n",
    "    s = Spectrum()\n",
    "    s.load_spectrum(fullfilename)\n",
    "    s.plot_spectrum(xlim=None,force_lines=True)"
   ]
  },
  {
   "cell_type": "code",
   "execution_count": 192,
   "metadata": {},
   "outputs": [
    {
     "name": "stderr",
     "output_type": "stream",
     "text": [
      "2019-04-02 15:05:24  urllib3.connectionpool _make_request        DEBUG  http://simbad.u-strasbg.fr:80 \"POST /simbad/sim-script HTTP/1.1\" 200 None\n",
      "2019-04-02 15:05:24  Star       load                 INFO   \n",
      "\tSimbad:  MAIN_ID        RA           DEC      ... SP_TYPE_25 SP_QUAL_25 SP_BIBCODE_25\n",
      "             \"h:m:s\"       \"d:m:s\"    ...                                    \n",
      "--------- ------------- ------------- ... ---------- ---------- -------------\n",
      "HD 116405 13 22 45.1237 +44 42 53.911 ...        A0V          C              \n",
      "2019-04-02 15:05:25  Spectrum   load_spectrum        INFO   \n",
      "\tLoading disperser Holo150ROTPDM19...\n",
      "2019-04-02 15:05:25  Spectrum   load_spectrum        INFO   \n",
      "\tSpectrum loaded from ../output/20190215/T1M_20190215_225701_284_HD116405_Filtre_None_bin1x1.3_red_rot_spectrum.fits\n"
     ]
    },
    {
     "name": "stdout",
     "output_type": "stream",
     "text": [
      "Loading /Users/dagoret/MacOSX/External/PySynPhotData/grp/hst/cdbs/calspec/hd116405_stis_003.fits\n",
      "Loading /Users/dagoret/MacOSX/External/PySynPhotData/grp/hst/cdbs/calspec/hd116405_stis_002.fits\n",
      "Loading /Users/dagoret/MacOSX/External/PySynPhotData/grp/hst/cdbs/calspec/hd116405_stis_004.fits\n",
      "Loading /Users/dagoret/MacOSX/External/PySynPhotData/grp/hst/cdbs/calspec/hd116405_stis_001.fits\n",
      "Load disperser Holo150ROTPDM19:\n",
      "\tfrom /Users/dagoret/MacOSX/GitHub/LSST/Spectractor/spectractor/extractor/dispersers/Holo150ROTPDM19\n",
      "Grating characteristics:\n",
      "\tN = 150.00 +/- 1.14 grooves/mm\n",
      "\tAverage tilt of 0.0 degrees\n"
     ]
    },
    {
     "name": "stderr",
     "output_type": "stream",
     "text": [
      "2019-04-02 15:05:25  Spectrum   load_spectrogram     INFO   \n",
      "\tSpectrogram loaded from ../output/20190215/T1M_20190215_225701_284_HD116405_Filtre_None_bin1x1.3_red_rot_spectrogram.fits\n",
      "2019-04-02 15:05:25  Spectrum   load_chromatic_psf   INFO   \n",
      "\tSpectrogram loaded from ../output/20190215/T1M_20190215_225701_284_HD116405_Filtre_None_bin1x1.3_red_rot_table.csv\n"
     ]
    },
    {
     "data": {
      "image/png": "[encoded data removed]",
      "text/plain": [
       "<Figure size 864x432 with 1 Axes>"
      ]
     },
     "metadata": {
      "needs_background": "light"
     },
     "output_type": "display_data"
    }
   ],
   "source": [
    "idx=7\n",
    "fullfilename=os.path.join(output_directory,onlyfiles[idx])\n",
    "s = Spectrum()\n",
    "s.load_spectrum(fullfilename)\n",
    "s.plot_spectrum(xlim=None,force_lines=True)"
   ]
  },
  {
   "cell_type": "code",
   "execution_count": null,
   "metadata": {},
   "outputs": [],
   "source": []
  }
 ],
 "metadata": {
  "kernelspec": {
   "display_name": "Python 3",
   "language": "python",
   "name": "python3"
  },
  "language_info": {
   "codemirror_mode": {
    "name": "ipython",
    "version": 3
   },
   "file_extension": ".py",
   "mimetype": "text/x-python",
   "name": "python",
   "nbconvert_exporter": "python",
   "pygments_lexer": "ipython3",
   "version": "3.6.7"
  },
  "toc": {
   "nav_menu": {},
   "number_sections": true,
   "sideBar": true,
   "skip_h1_title": false,
   "toc_cell": false,
   "toc_position": {},
   "toc_section_display": "block",
   "toc_window_display": false
  }
 },
 "nbformat": 4,
 "nbformat_minor": 2
}
